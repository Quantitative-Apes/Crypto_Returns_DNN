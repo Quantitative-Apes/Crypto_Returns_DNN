{
 "cells": [
  {
   "cell_type": "code",
   "execution_count": 1,
   "metadata": {},
   "outputs": [
    {
     "name": "stdout",
     "output_type": "stream",
     "text": [
      "305 ['BNBBUSD', 'BTCBUSD', 'XRPBUSD', 'ETHBUSD', 'BCHABCBUSD', 'LTCBUSD', 'LINKBUSD', 'ETCBUSD', 'TRXBUSD', 'EOSBUSD', 'XLMBUSD', 'ADABUSD', 'BCHBUSD', 'QTUMBUSD', 'VETBUSD', 'EURBUSD', 'ICXBUSD', 'BTSBUSD', 'BNTBUSD', 'ATOMBUSD', 'DASHBUSD', 'NEOBUSD', 'WAVESBUSD', 'XTZBUSD', 'BATBUSD', 'ENJBUSD', 'NANOBUSD', 'ONTBUSD', 'RVNBUSD', 'STRATBUSD', 'AIONBUSD', 'ALGOBUSD', 'BTTBUSD', 'TOMOBUSD', 'XMRBUSD', 'ZECBUSD', 'DATABUSD', 'SOLBUSD', 'CTSIBUSD', 'ERDBUSD', 'HBARBUSD', 'MATICBUSD', 'WRXBUSD', 'ZILBUSD', 'KNCBUSD', 'REPBUSD', 'LRCBUSD', 'IQBUSD', 'GBPBUSD', 'DGBBUSD', 'COMPBUSD', 'BKRWBUSD', 'SXPBUSD', 'SNXBUSD', 'VTHOBUSD', 'DCRBUSD', 'STORJBUSD', 'IRISBUSD', 'MKRBUSD', 'DAIBUSD', 'RUNEBUSD', 'MANABUSD', 'DOGEBUSD', 'LENDBUSD', 'ZRXBUSD', 'AUDBUSD', 'FIOBUSD', 'AVABUSD', 'IOTABUSD', 'BALBUSD', 'YFIBUSD', 'BLZBUSD', 'KMDBUSD', 'JSTBUSD', 'SRMBUSD', 'ANTBUSD', 'CRVBUSD', 'SANDBUSD', 'OCEANBUSD', 'NMRBUSD', 'DOTBUSD', 'LUNABUSD', 'IDEXBUSD', 'RSRBUSD', 'PAXGBUSD', 'WNXMBUSD', 'TRBBUSD', 'BZRXBUSD', 'SUSHIBUSD', 'YFIIBUSD', 'KSMBUSD', 'EGLDBUSD', 'DIABUSD', 'BELBUSD', 'SWRVBUSD', 'WINGBUSD', 'CREAMBUSD', 'UNIBUSD', 'AVAXBUSD', 'FLMBUSD', 'CAKEBUSD', 'XVSBUSD', 'ALPHABUSD', 'VIDTBUSD', 'AAVEBUSD', 'NEARBUSD', 'FILBUSD', 'INJBUSD', 'AERGOBUSD', 'ONEBUSD', 'AUDIOBUSD', 'CTKBUSD', 'BOTBUSD', 'KP3RBUSD', 'AXSBUSD', 'HARDBUSD', 'DNTBUSD', 'CVPBUSD', 'STRAXBUSD', 'FORBUSD', 'UNFIBUSD', 'FRONTBUSD', 'BCHABUSD', 'ROSEBUSD', 'SYSBUSD', 'HEGICBUSD', 'PROMBUSD', 'SKLBUSD', 'COVERBUSD', 'GHSTBUSD', 'DFBUSD', 'JUVBUSD', 'PSGBUSD', 'BTCSTBUSD', 'TRUBUSD', 'DEXEBUSD', 'USDCBUSD', 'TUSDBUSD', 'PAXBUSD', 'CKBBUSD', 'TWTBUSD', 'LITBUSD', 'SFPBUSD', 'FXSBUSD', 'DODOBUSD', 'BAKEBUSD', 'UFTBUSD', '1INCHBUSD', 'BANDBUSD', 'GRTBUSD', 'IOSTBUSD', 'OMGBUSD', 'REEFBUSD', 'ACMBUSD', 'AUCTIONBUSD', 'PHABUSD', 'TVKBUSD', 'BADGERBUSD', 'FISBUSD', 'OMBUSD', 'PONDBUSD', 'DEGOBUSD', 'ALICEBUSD', 'CHZBUSD', 'BIFIBUSD', 'LINABUSD', 'PERPBUSD', 'RAMPBUSD', 'SUPERBUSD', 'CFXBUSD', 'XVGBUSD', 'EPSBUSD', 'AUTOBUSD', 'TKOBUSD', 'TLMBUSD', 'BTGBUSD', 'HOTBUSD', 'MIRBUSD', 'BARBUSD', 'FORTHBUSD', 'BURGERBUSD', 'SLPBUSD', 'SHIBBUSD', 'ICPBUSD', 'ARBUSD', 'POLSBUSD', 'MDXBUSD', 'MASKBUSD', 'LPTBUSD', 'NUBUSD', 'RLCBUSD', 'CELRBUSD', 'ATMBUSD', 'ZENBUSD', 'FTMBUSD', 'THETABUSD', 'WINBUSD', 'KAVABUSD', 'XEMBUSD', 'ATABUSD', 'GTCBUSD', 'TORNBUSD', 'COTIBUSD', 'KEEPBUSD', 'SCBUSD', 'CHRBUSD', 'STMXBUSD', 'HNTBUSD', 'FTTBUSD', 'DOCKBUSD', 'ERNBUSD', 'KLAYBUSD', 'UTKBUSD', 'IOTXBUSD', 'BONDBUSD', 'MLNBUSD', 'LTOBUSD', 'ADXBUSD', 'QUICKBUSD', 'C98BUSD', 'CLVBUSD', 'QNTBUSD', 'FLOWBUSD', 'XECBUSD', 'MINABUSD', 'RAYBUSD', 'FARMBUSD', 'ALPACABUSD', 'ORNBUSD', 'MBOXBUSD', 'WAXPBUSD', 'TRIBEBUSD', 'GNOBUSD', 'MTLBUSD', 'OGNBUSD', 'POLYBUSD', 'DYDXBUSD', 'ELFBUSD', 'USDPBUSD', 'GALABUSD', 'SUNBUSD', 'ILVBUSD', 'RENBUSD', 'YGGBUSD', 'STXBUSD', 'FETBUSD', 'ARPABUSD', 'LSKBUSD', 'FIDABUSD', 'DENTBUSD', 'AGLDBUSD', 'RADBUSD', 'HIVEBUSD', 'STPTBUSD', 'BETABUSD', 'RAREBUSD', 'TROYBUSD', 'CHESSBUSD', 'SCRTBUSD', 'CELOBUSD', 'DARBUSD', 'BNXBUSD', 'RGTBUSD', 'LAZIOBUSD', 'OXTBUSD', 'MOVRBUSD', 'CITYBUSD', 'ENSBUSD', 'ANKRBUSD', 'QIBUSD', 'POWRBUSD', 'JASMYBUSD', 'AMPBUSD', 'PLABUSD', 'PYRBUSD', 'RNDRBUSD', 'ALCXBUSD', 'MCBUSD', 'COCOSBUSD', 'ANYBUSD', 'BICOBUSD', 'FLUXBUSD', 'REQBUSD', 'VOXELBUSD', 'COSBUSD', 'CTXCBUSD', 'HIGHBUSD', 'CVXBUSD', 'PEOPLEBUSD', 'OOKIBUSD', 'MDTBUSD', 'NULSBUSD', 'SPELLBUSD', 'USTBUSD', 'JOEBUSD', 'DUSKBUSD', 'ACHBUSD', 'IMXBUSD', 'GLMRBUSD', 'UMABUSD', 'LOKABUSD', 'API3BUSD', 'ACABUSD', 'ANCBUSD', 'XNOBUSD']\n"
     ]
    }
   ],
   "source": [
    "import binance_utils as bu\n",
    "\n",
    "key, secret = bu.get_credentials()\n",
    "client = bu.get_client(key, secret)\n",
    "tickers = bu.get_tickers(client)\n",
    "print(len(tickers), tickers)\n"
   ]
  },
  {
   "cell_type": "code",
   "execution_count": null,
   "metadata": {},
   "outputs": [],
   "source": [
    "import os\n",
    "\n",
    "if not os.path.exists(os.path.join(os.getcwd(), 'data')):\n",
    "    os.mkdir(os.path.join(os.getcwd(), 'data'))\n",
    "# Arbitrary list of tickers\n",
    "training_tickers = ['BNBBUSD', 'ETHBUSD', 'DASHBUSD', 'DOGEBUSD', 'ADABUSD']\n",
    "\n",
    "start_d = '2021-01-01'\n",
    "end_d = '2022-01-01'\n",
    "for ticker in training_tickers:\n",
    "    kline_df = bu.get_historical_klines(client, ticker, start_d, end_d, interval=bu.Consts.INTERVAL_5MIN) # interval = 5min\n",
    "    kline_df.to_csv(os.path.join(os.getcwd(), 'data', ticker+'_5min.csv'))"
   ]
  },
  {
   "cell_type": "code",
   "execution_count": 2,
   "metadata": {},
   "outputs": [],
   "source": [
    "# extract features from dataframes into datasets\n",
    "import pandas as pd\n",
    "files = os.listdir(os.path.join(os.getcwd(), 'data'))\n",
    "\n",
    "df = pd.read_csv(os.path.join(os.getcwd(), 'data', 'ADABUSD_5min.csv'))"
   ]
  }
 ],
 "metadata": {
  "interpreter": {
   "hash": "82ac19964a1ae5503e6fde7d92ac579765992e0b48feb1e822133a0cafa2d0dc"
  },
  "kernelspec": {
   "display_name": "Python 3.8.6 64-bit ('venv': venv)",
   "language": "python",
   "name": "python3"
  },
  "language_info": {
   "codemirror_mode": {
    "name": "ipython",
    "version": 3
   },
   "file_extension": ".py",
   "mimetype": "text/x-python",
   "name": "python",
   "nbconvert_exporter": "python",
   "pygments_lexer": "ipython3",
   "version": "3.8.6"
  },
  "orig_nbformat": 4
 },
 "nbformat": 4,
 "nbformat_minor": 2
}
