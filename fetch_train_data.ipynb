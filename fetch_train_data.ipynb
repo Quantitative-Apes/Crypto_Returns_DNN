{
 "cells": [
  {
   "cell_type": "code",
   "execution_count": 1,
   "metadata": {},
   "outputs": [
    {
     "name": "stdout",
     "output_type": "stream",
     "text": [
      "305 ['BNBBUSD', 'BTCBUSD', 'XRPBUSD', 'ETHBUSD', 'BCHABCBUSD', 'LTCBUSD', 'LINKBUSD', 'ETCBUSD', 'TRXBUSD', 'EOSBUSD', 'XLMBUSD', 'ADABUSD', 'BCHBUSD', 'QTUMBUSD', 'VETBUSD', 'EURBUSD', 'ICXBUSD', 'BTSBUSD', 'BNTBUSD', 'ATOMBUSD', 'DASHBUSD', 'NEOBUSD', 'WAVESBUSD', 'XTZBUSD', 'BATBUSD', 'ENJBUSD', 'NANOBUSD', 'ONTBUSD', 'RVNBUSD', 'STRATBUSD', 'AIONBUSD', 'ALGOBUSD', 'BTTBUSD', 'TOMOBUSD', 'XMRBUSD', 'ZECBUSD', 'DATABUSD', 'SOLBUSD', 'CTSIBUSD', 'ERDBUSD', 'HBARBUSD', 'MATICBUSD', 'WRXBUSD', 'ZILBUSD', 'KNCBUSD', 'REPBUSD', 'LRCBUSD', 'IQBUSD', 'GBPBUSD', 'DGBBUSD', 'COMPBUSD', 'BKRWBUSD', 'SXPBUSD', 'SNXBUSD', 'VTHOBUSD', 'DCRBUSD', 'STORJBUSD', 'IRISBUSD', 'MKRBUSD', 'DAIBUSD', 'RUNEBUSD', 'MANABUSD', 'DOGEBUSD', 'LENDBUSD', 'ZRXBUSD', 'AUDBUSD', 'FIOBUSD', 'AVABUSD', 'IOTABUSD', 'BALBUSD', 'YFIBUSD', 'BLZBUSD', 'KMDBUSD', 'JSTBUSD', 'SRMBUSD', 'ANTBUSD', 'CRVBUSD', 'SANDBUSD', 'OCEANBUSD', 'NMRBUSD', 'DOTBUSD', 'LUNABUSD', 'IDEXBUSD', 'RSRBUSD', 'PAXGBUSD', 'WNXMBUSD', 'TRBBUSD', 'BZRXBUSD', 'SUSHIBUSD', 'YFIIBUSD', 'KSMBUSD', 'EGLDBUSD', 'DIABUSD', 'BELBUSD', 'SWRVBUSD', 'WINGBUSD', 'CREAMBUSD', 'UNIBUSD', 'AVAXBUSD', 'FLMBUSD', 'CAKEBUSD', 'XVSBUSD', 'ALPHABUSD', 'VIDTBUSD', 'AAVEBUSD', 'NEARBUSD', 'FILBUSD', 'INJBUSD', 'AERGOBUSD', 'ONEBUSD', 'AUDIOBUSD', 'CTKBUSD', 'BOTBUSD', 'KP3RBUSD', 'AXSBUSD', 'HARDBUSD', 'DNTBUSD', 'CVPBUSD', 'STRAXBUSD', 'FORBUSD', 'UNFIBUSD', 'FRONTBUSD', 'BCHABUSD', 'ROSEBUSD', 'SYSBUSD', 'HEGICBUSD', 'PROMBUSD', 'SKLBUSD', 'COVERBUSD', 'GHSTBUSD', 'DFBUSD', 'JUVBUSD', 'PSGBUSD', 'BTCSTBUSD', 'TRUBUSD', 'DEXEBUSD', 'USDCBUSD', 'TUSDBUSD', 'PAXBUSD', 'CKBBUSD', 'TWTBUSD', 'LITBUSD', 'SFPBUSD', 'FXSBUSD', 'DODOBUSD', 'BAKEBUSD', 'UFTBUSD', '1INCHBUSD', 'BANDBUSD', 'GRTBUSD', 'IOSTBUSD', 'OMGBUSD', 'REEFBUSD', 'ACMBUSD', 'AUCTIONBUSD', 'PHABUSD', 'TVKBUSD', 'BADGERBUSD', 'FISBUSD', 'OMBUSD', 'PONDBUSD', 'DEGOBUSD', 'ALICEBUSD', 'CHZBUSD', 'BIFIBUSD', 'LINABUSD', 'PERPBUSD', 'RAMPBUSD', 'SUPERBUSD', 'CFXBUSD', 'XVGBUSD', 'EPSBUSD', 'AUTOBUSD', 'TKOBUSD', 'TLMBUSD', 'BTGBUSD', 'HOTBUSD', 'MIRBUSD', 'BARBUSD', 'FORTHBUSD', 'BURGERBUSD', 'SLPBUSD', 'SHIBBUSD', 'ICPBUSD', 'ARBUSD', 'POLSBUSD', 'MDXBUSD', 'MASKBUSD', 'LPTBUSD', 'NUBUSD', 'RLCBUSD', 'CELRBUSD', 'ATMBUSD', 'ZENBUSD', 'FTMBUSD', 'THETABUSD', 'WINBUSD', 'KAVABUSD', 'XEMBUSD', 'ATABUSD', 'GTCBUSD', 'TORNBUSD', 'COTIBUSD', 'KEEPBUSD', 'SCBUSD', 'CHRBUSD', 'STMXBUSD', 'HNTBUSD', 'FTTBUSD', 'DOCKBUSD', 'ERNBUSD', 'KLAYBUSD', 'UTKBUSD', 'IOTXBUSD', 'BONDBUSD', 'MLNBUSD', 'LTOBUSD', 'ADXBUSD', 'QUICKBUSD', 'C98BUSD', 'CLVBUSD', 'QNTBUSD', 'FLOWBUSD', 'XECBUSD', 'MINABUSD', 'RAYBUSD', 'FARMBUSD', 'ALPACABUSD', 'ORNBUSD', 'MBOXBUSD', 'WAXPBUSD', 'TRIBEBUSD', 'GNOBUSD', 'MTLBUSD', 'OGNBUSD', 'POLYBUSD', 'DYDXBUSD', 'ELFBUSD', 'USDPBUSD', 'GALABUSD', 'SUNBUSD', 'ILVBUSD', 'RENBUSD', 'YGGBUSD', 'STXBUSD', 'FETBUSD', 'ARPABUSD', 'LSKBUSD', 'FIDABUSD', 'DENTBUSD', 'AGLDBUSD', 'RADBUSD', 'HIVEBUSD', 'STPTBUSD', 'BETABUSD', 'RAREBUSD', 'TROYBUSD', 'CHESSBUSD', 'SCRTBUSD', 'CELOBUSD', 'DARBUSD', 'BNXBUSD', 'RGTBUSD', 'LAZIOBUSD', 'OXTBUSD', 'MOVRBUSD', 'CITYBUSD', 'ENSBUSD', 'ANKRBUSD', 'QIBUSD', 'POWRBUSD', 'JASMYBUSD', 'AMPBUSD', 'PLABUSD', 'PYRBUSD', 'RNDRBUSD', 'ALCXBUSD', 'MCBUSD', 'COCOSBUSD', 'ANYBUSD', 'BICOBUSD', 'FLUXBUSD', 'REQBUSD', 'VOXELBUSD', 'COSBUSD', 'CTXCBUSD', 'HIGHBUSD', 'CVXBUSD', 'PEOPLEBUSD', 'OOKIBUSD', 'MDTBUSD', 'NULSBUSD', 'SPELLBUSD', 'USTBUSD', 'JOEBUSD', 'DUSKBUSD', 'ACHBUSD', 'IMXBUSD', 'GLMRBUSD', 'UMABUSD', 'LOKABUSD', 'API3BUSD', 'ACABUSD', 'ANCBUSD', 'XNOBUSD']\n"
     ]
    }
   ],
   "source": [
    "import binance_utils as bu\n",
    "\n",
    "key, secret = bu.get_credentials()\n",
    "client = bu.get_client(key, secret)\n",
    "tickers = bu.get_tickers(client)\n",
    "print(len(tickers), tickers)\n"
   ]
  },
  {
   "cell_type": "code",
   "execution_count": null,
   "metadata": {},
   "outputs": [],
   "source": [
    "import os\n",
    "\n",
    "if not os.path.exists(os.path.join(os.getcwd(), 'data')):\n",
    "    os.mkdir(os.path.join(os.getcwd(), 'data'))\n",
    "# Arbitrary list of tickers\n",
    "training_tickers = ['BNBBUSD', 'ETHBUSD', 'DASHBUSD', 'DOGEBUSD', 'ADABUSD']\n",
    "\n",
    "start_d = '2021-01-01'\n",
    "end_d = '2022-01-01'\n",
    "for ticker in training_tickers:\n",
    "    kline_df = bu.get_historical_klines(client, ticker, start_d, end_d, interval=bu.Consts.INTERVAL_5MIN) # interval = 5min\n",
    "    kline_df.to_csv(os.path.join(os.getcwd(), 'data', ticker+'_5min.csv'))"
   ]
  },
  {
   "cell_type": "code",
   "execution_count": 2,
   "metadata": {},
   "outputs": [],
   "source": [
    "# extract features from dataframes into datasets\n",
    "import pandas as pd\n",
    "files = os.listdir(os.path.join(os.getcwd(), 'data'))\n",
    "\n",
    "df = pd.read_csv(os.path.join(os.getcwd(), 'data', 'ADABUSD_5min.csv'))"
   ]
  },
  {
   "cell_type": "code",
   "execution_count": null,
   "metadata": {},
   "outputs": [],
   "source": [
    "# install pytorch\n",
    "!pip install torch==1.10.2+cu102 torchvision==0.11.3+cu102 torchaudio===0.10.2+cu102 -f https://download.pytorch.org/whl/cu102/torch_stable.html\n",
    "!pip install pytorch-forecasting"
   ]
  },
  {
   "cell_type": "code",
   "execution_count": 1,
   "metadata": {},
   "outputs": [
    {
     "data": {
      "text/html": [
       "<div>\n",
       "<style scoped>\n",
       "    .dataframe tbody tr th:only-of-type {\n",
       "        vertical-align: middle;\n",
       "    }\n",
       "\n",
       "    .dataframe tbody tr th {\n",
       "        vertical-align: top;\n",
       "    }\n",
       "\n",
       "    .dataframe thead th {\n",
       "        text-align: right;\n",
       "    }\n",
       "</style>\n",
       "<table border=\"1\" class=\"dataframe\">\n",
       "  <thead>\n",
       "    <tr style=\"text-align: right;\">\n",
       "      <th></th>\n",
       "      <th>open</th>\n",
       "      <th>high</th>\n",
       "      <th>low</th>\n",
       "      <th>close</th>\n",
       "      <th>volume</th>\n",
       "      <th>qav</th>\n",
       "      <th>n_trades</th>\n",
       "      <th>tbbav</th>\n",
       "      <th>tbqav</th>\n",
       "      <th>next_return</th>\n",
       "    </tr>\n",
       "  </thead>\n",
       "  <tbody>\n",
       "    <tr>\n",
       "      <th>1</th>\n",
       "      <td>0.446094</td>\n",
       "      <td>0.270949</td>\n",
       "      <td>0.534510</td>\n",
       "      <td>0.445746</td>\n",
       "      <td>0.017527</td>\n",
       "      <td>0.001552</td>\n",
       "      <td>0.003846</td>\n",
       "      <td>0.007839</td>\n",
       "      <td>0.000767</td>\n",
       "      <td>0.451397</td>\n",
       "    </tr>\n",
       "    <tr>\n",
       "      <th>2</th>\n",
       "      <td>0.440888</td>\n",
       "      <td>0.268847</td>\n",
       "      <td>0.536890</td>\n",
       "      <td>0.451397</td>\n",
       "      <td>0.019038</td>\n",
       "      <td>0.001678</td>\n",
       "      <td>0.005182</td>\n",
       "      <td>0.014998</td>\n",
       "      <td>0.001464</td>\n",
       "      <td>0.475875</td>\n",
       "    </tr>\n",
       "    <tr>\n",
       "      <th>3</th>\n",
       "      <td>0.445287</td>\n",
       "      <td>0.284949</td>\n",
       "      <td>0.566399</td>\n",
       "      <td>0.475875</td>\n",
       "      <td>0.006384</td>\n",
       "      <td>0.000565</td>\n",
       "      <td>0.001337</td>\n",
       "      <td>0.007656</td>\n",
       "      <td>0.000749</td>\n",
       "      <td>0.454527</td>\n",
       "    </tr>\n",
       "    <tr>\n",
       "      <th>4</th>\n",
       "      <td>0.466151</td>\n",
       "      <td>0.277660</td>\n",
       "      <td>0.562801</td>\n",
       "      <td>0.454527</td>\n",
       "      <td>0.003517</td>\n",
       "      <td>0.000311</td>\n",
       "      <td>0.001337</td>\n",
       "      <td>0.003998</td>\n",
       "      <td>0.000391</td>\n",
       "      <td>0.451764</td>\n",
       "    </tr>\n",
       "    <tr>\n",
       "      <th>5</th>\n",
       "      <td>0.453803</td>\n",
       "      <td>0.280984</td>\n",
       "      <td>0.551099</td>\n",
       "      <td>0.451764</td>\n",
       "      <td>0.003055</td>\n",
       "      <td>0.000270</td>\n",
       "      <td>0.001282</td>\n",
       "      <td>0.002056</td>\n",
       "      <td>0.000201</td>\n",
       "      <td>0.467696</td>\n",
       "    </tr>\n",
       "  </tbody>\n",
       "</table>\n",
       "</div>"
      ],
      "text/plain": [
       "       open      high       low     close    volume       qav  n_trades  \\\n",
       "1  0.446094  0.270949  0.534510  0.445746  0.017527  0.001552  0.003846   \n",
       "2  0.440888  0.268847  0.536890  0.451397  0.019038  0.001678  0.005182   \n",
       "3  0.445287  0.284949  0.566399  0.475875  0.006384  0.000565  0.001337   \n",
       "4  0.466151  0.277660  0.562801  0.454527  0.003517  0.000311  0.001337   \n",
       "5  0.453803  0.280984  0.551099  0.451764  0.003055  0.000270  0.001282   \n",
       "\n",
       "      tbbav     tbqav  next_return  \n",
       "1  0.007839  0.000767     0.451397  \n",
       "2  0.014998  0.001464     0.475875  \n",
       "3  0.007656  0.000749     0.454527  \n",
       "4  0.003998  0.000391     0.451764  \n",
       "5  0.002056  0.000201     0.467696  "
      ]
     },
     "execution_count": 1,
     "metadata": {},
     "output_type": "execute_result"
    }
   ],
   "source": [
    "import feature_extraction\n",
    "\n",
    "train, test, scale = feature_extraction.feature_dfs_from_klines(os.path.join(os.getcwd(), 'data', 'ADABUSD_5min.csv'))\n",
    "train.head()"
   ]
  },
  {
   "cell_type": "markdown",
   "metadata": {},
   "source": []
  },
  {
   "cell_type": "code",
   "execution_count": 2,
   "metadata": {},
   "outputs": [
    {
     "data": {
      "text/html": [
       "<div>\n",
       "<style scoped>\n",
       "    .dataframe tbody tr th:only-of-type {\n",
       "        vertical-align: middle;\n",
       "    }\n",
       "\n",
       "    .dataframe tbody tr th {\n",
       "        vertical-align: top;\n",
       "    }\n",
       "\n",
       "    .dataframe thead th {\n",
       "        text-align: right;\n",
       "    }\n",
       "</style>\n",
       "<table border=\"1\" class=\"dataframe\">\n",
       "  <thead>\n",
       "    <tr style=\"text-align: right;\">\n",
       "      <th></th>\n",
       "      <th>open</th>\n",
       "      <th>high</th>\n",
       "      <th>low</th>\n",
       "      <th>close</th>\n",
       "      <th>volume</th>\n",
       "      <th>qav</th>\n",
       "      <th>n_trades</th>\n",
       "      <th>tbbav</th>\n",
       "      <th>tbqav</th>\n",
       "      <th>next_return</th>\n",
       "    </tr>\n",
       "  </thead>\n",
       "  <tbody>\n",
       "    <tr>\n",
       "      <th>1</th>\n",
       "      <td>-0.004185</td>\n",
       "      <td>-0.004184</td>\n",
       "      <td>-0.007195</td>\n",
       "      <td>-0.006586</td>\n",
       "      <td>135592.4</td>\n",
       "      <td>24375.286004</td>\n",
       "      <td>141.0</td>\n",
       "      <td>25875.7</td>\n",
       "      <td>4650.278297</td>\n",
       "      <td>-0.003956</td>\n",
       "    </tr>\n",
       "    <tr>\n",
       "      <th>2</th>\n",
       "      <td>-0.006636</td>\n",
       "      <td>-0.004921</td>\n",
       "      <td>-0.006411</td>\n",
       "      <td>-0.003956</td>\n",
       "      <td>147283.8</td>\n",
       "      <td>26357.865564</td>\n",
       "      <td>190.0</td>\n",
       "      <td>49508.3</td>\n",
       "      <td>8871.062678</td>\n",
       "      <td>0.007439</td>\n",
       "    </tr>\n",
       "    <tr>\n",
       "      <th>3</th>\n",
       "      <td>-0.004565</td>\n",
       "      <td>0.000722</td>\n",
       "      <td>0.003310</td>\n",
       "      <td>0.007439</td>\n",
       "      <td>49386.5</td>\n",
       "      <td>8876.441155</td>\n",
       "      <td>49.0</td>\n",
       "      <td>25273.7</td>\n",
       "      <td>4541.883710</td>\n",
       "      <td>-0.002498</td>\n",
       "    </tr>\n",
       "    <tr>\n",
       "      <th>4</th>\n",
       "      <td>0.005257</td>\n",
       "      <td>-0.001832</td>\n",
       "      <td>0.002125</td>\n",
       "      <td>-0.002498</td>\n",
       "      <td>27208.2</td>\n",
       "      <td>4884.727909</td>\n",
       "      <td>49.0</td>\n",
       "      <td>13197.4</td>\n",
       "      <td>2368.477989</td>\n",
       "      <td>-0.003785</td>\n",
       "    </tr>\n",
       "    <tr>\n",
       "      <th>5</th>\n",
       "      <td>-0.000556</td>\n",
       "      <td>-0.000667</td>\n",
       "      <td>-0.001730</td>\n",
       "      <td>-0.003785</td>\n",
       "      <td>23634.9</td>\n",
       "      <td>4235.342296</td>\n",
       "      <td>47.0</td>\n",
       "      <td>6786.3</td>\n",
       "      <td>1216.193052</td>\n",
       "      <td>0.003632</td>\n",
       "    </tr>\n",
       "  </tbody>\n",
       "</table>\n",
       "</div>"
      ],
      "text/plain": [
       "       open      high       low     close    volume           qav  n_trades  \\\n",
       "1 -0.004185 -0.004184 -0.007195 -0.006586  135592.4  24375.286004     141.0   \n",
       "2 -0.006636 -0.004921 -0.006411 -0.003956  147283.8  26357.865564     190.0   \n",
       "3 -0.004565  0.000722  0.003310  0.007439   49386.5   8876.441155      49.0   \n",
       "4  0.005257 -0.001832  0.002125 -0.002498   27208.2   4884.727909      49.0   \n",
       "5 -0.000556 -0.000667 -0.001730 -0.003785   23634.9   4235.342296      47.0   \n",
       "\n",
       "     tbbav        tbqav  next_return  \n",
       "1  25875.7  4650.278297    -0.003956  \n",
       "2  49508.3  8871.062678     0.007439  \n",
       "3  25273.7  4541.883710    -0.002498  \n",
       "4  13197.4  2368.477989    -0.003785  \n",
       "5   6786.3  1216.193052     0.003632  "
      ]
     },
     "execution_count": 2,
     "metadata": {},
     "output_type": "execute_result"
    }
   ],
   "source": [
    "feature_extraction.rescale_df(train, scale[0], scale[1]).head()"
   ]
  },
  {
   "cell_type": "code",
   "execution_count": 29,
   "metadata": {},
   "outputs": [
    {
     "data": {
      "text/plain": [
       "472610.8486176335"
      ]
     },
     "execution_count": 29,
     "metadata": {},
     "output_type": "execute_result"
    }
   ],
   "source": []
  },
  {
   "cell_type": "code",
   "execution_count": 28,
   "metadata": {},
   "outputs": [
    {
     "data": {
      "text/plain": [
       "({'x_cat': tensor([], size=(31, 0), dtype=torch.int64),\n",
       "  'x_cont': tensor([], size=(31, 0)),\n",
       "  'encoder_length': 30,\n",
       "  'decoder_length': 1,\n",
       "  'encoder_target': tensor([-3.9557e-03,  7.4393e-03, -2.4985e-03, -3.7849e-03,  3.6317e-03,\n",
       "           2.2825e-03,  1.7218e-03,  2.2179e-04, -7.2066e-04,  3.2731e-03,\n",
       "          -2.4330e-03,  7.1504e-03, -1.3209e-03, -2.9208e-03,  3.2057e-03,\n",
       "           3.6362e-03,  2.4702e-03,  5.7496e-03,  5.6623e-03, -4.6018e-03,\n",
       "           3.8072e-04,  5.4369e-05,  5.4366e-05,  3.1530e-03, -5.4192e-04,\n",
       "          -2.7653e-03,  2.7186e-04, -1.2502e-03, -2.0681e-03,  4.8538e-03]),\n",
       "  'encoder_time_idx_start': tensor(1),\n",
       "  'groups': tensor([0]),\n",
       "  'target_scale': array([0.00087837, 0.00338244], dtype=float32)},\n",
       " (tensor([0.0015]), None))"
      ]
     },
     "execution_count": 28,
     "metadata": {},
     "output_type": "execute_result"
    }
   ],
   "source": [
    "next(iter(dataset))"
   ]
  }
 ],
 "metadata": {
  "interpreter": {
   "hash": "82ac19964a1ae5503e6fde7d92ac579765992e0b48feb1e822133a0cafa2d0dc"
  },
  "kernelspec": {
   "display_name": "Python 3.8.6 64-bit ('venv': venv)",
   "language": "python",
   "name": "python3"
  },
  "language_info": {
   "codemirror_mode": {
    "name": "ipython",
    "version": 3
   },
   "file_extension": ".py",
   "mimetype": "text/x-python",
   "name": "python",
   "nbconvert_exporter": "python",
   "pygments_lexer": "ipython3",
   "version": "3.8.6"
  },
  "orig_nbformat": 4
 },
 "nbformat": 4,
 "nbformat_minor": 2
}
